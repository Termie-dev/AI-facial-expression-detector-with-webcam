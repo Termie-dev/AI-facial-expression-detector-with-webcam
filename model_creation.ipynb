{
 "cells": [
  {
   "cell_type": "markdown",
   "metadata": {
    "id": "3DR-eO17geWu"
   },
   "source": [
    "# Convolutional Neural Network"
   ]
  },
  {
   "cell_type": "markdown",
   "metadata": {
    "id": "xMPz3wfbX_og"
   },
   "source": [
    "The way computers process images is the same that we do."
   ]
  },
  {
   "cell_type": "markdown",
   "metadata": {
    "id": "N6yqKDwbj2KF"
   },
   "source": [
    "Step 1: Convolution:\n",
    "\n",
    "Find features in your image using a feature detector, and putting it into a feature map. These features the computer uses could sometimes not mean anything to humans, but they work.\n",
    "\n",
    "A combined integration of two functions (Google it for the equation).\n",
    "\n",
    "Feature detector: Usually 3x3, 7x7 and 5x5 are popular too. Maybe play with this to see which is more accurate for your model? Also called filter or kernel. Made to resize input image. You are losing some information, but the purpose of this is to detect parts of the image that are integral.\n",
    "\n",
    "Feature map = Input image * Feature detector. You put the feature 3x3 feature detector in the top left 3x3 pixels of the input image, and multiply each value at each position. Then, add up results and place in the relative feature map position.\n",
    "  \n",
    "  We create multiple feature maps and the network decides through its training which features are important and looks for them, so we will have different filters/feature detector. Many feature maps form the first convolution layer. Decides which feature map is most appropriate for a category.\n",
    "\n",
    "  It is like a filter just like the sharpen one, but filters the image to show the key features.\n",
    "\n",
    "Stride: Amount of pixels to move by when creating feature map. Stride = 2 is the convention. The larger the stride, the smaller the feature map. You want the image smaller so that it is easier to process."
   ]
  },
  {
   "cell_type": "markdown",
   "metadata": {
    "id": "hhu2CSoLx7cv"
   },
   "source": [
    "Step 1(B): ReLU Layer:\n",
    "\n",
    "After the convolutional layer(s), apply a rectifier function.\n",
    "\n",
    "We apply rectifier because we want to decrease linearity in our CNN. We want to do this because images themselves are highly non-linear.\n",
    "\n",
    "When using convolution and feature detection, we risk creating something linear.\n",
    "\n",
    "After convolutional layer, we have image in black gray and white. Rectifier function removes all the black (because anything below 0 it turns into 0)\n",
    "\n",
    "It looks like when you go from white to grey, next step is black. Its a linear progression from bright to dark, like a linear relationship. We are breaking up this relationship."
   ]
  },
  {
   "cell_type": "markdown",
   "metadata": {
    "id": "KWuzb7K8yZIE"
   },
   "source": [
    "Step 2: Pooling:\n",
    "\n",
    "Want the neural network to recognize the cheetah in different images and orientations, different parts of image, looking in different directions, lighting is different, etc.\n",
    "\n",
    "Max pooling, mean pooling etc. Different types.\n",
    "\n",
    "Max pooling: Take a box of 2x2 size (could be any size) and place in top left corner. Keep the maximum value in this box. This has a stride too.\n",
    "From this pooling, we are getting rid of 75% of the stuff that we are not looking for, and because we are taking the maximum, we are accounting for any distortion. If the cheetah's face is on different parts of the image, we will still get the same pooled feature map.\n",
    "\n",
    "Benefits: Preserving the features, introducing spatial invariance, reducing the size by 75% to help with processing and reducing the number of parameters (avoiding overfitting especially because we're removing unnecessary information)"
   ]
  },
  {
   "cell_type": "markdown",
   "metadata": {
    "id": "iemeodJ73lfb"
   },
   "source": [
    "Step 3: Flattening:\n",
    "\n",
    "Turn a matrix into a 1D matrix (one column), which is one large vector of inputs for the artificial neural network."
   ]
  },
  {
   "cell_type": "markdown",
   "metadata": {
    "id": "_tRKjp77_YrB"
   },
   "source": [
    "Step 4: Full Connection:\n",
    "\n",
    "Adding a whole new ANN to the back of the ANN we just made.\n",
    "\n",
    "The flattening occurs, then its the inputs of this new ANN.\n",
    "\n",
    "This input layer connects to the fully connected layer, which connects to the output layer.\n",
    "\n",
    "\n",
    "We already have features encoded in these input values, and they could probably already do a good job, but at the same time we know that we have this ANN structure which has a purpose of dealing with features and coming up with new attributes and combining attributes together to predict things we are trying to predict. We are letting it even further optimize the results."
   ]
  },
  {
   "cell_type": "markdown",
   "metadata": {
    "id": "EMefrVPCg-60"
   },
   "source": [
    "### Importing the libraries"
   ]
  },
  {
   "cell_type": "markdown",
   "metadata": {
    "id": "oxQxCBWyoGPE"
   },
   "source": [
    "## Part 1 - Data Preprocessing"
   ]
  },
  {
   "cell_type": "code",
   "execution_count": 1,
   "metadata": {
    "id": "PZDeUSP6QCsb"
   },
   "outputs": [],
   "source": [
    "import tensorflow as tf\n",
    "from tensorflow.keras.preprocessing.image import ImageDataGenerator"
   ]
  },
  {
   "cell_type": "code",
   "execution_count": 2,
   "metadata": {
    "colab": {
     "base_uri": "https://localhost:8080/",
     "height": 35
    },
    "id": "mGTpyaRIQCeU",
    "outputId": "f061feff-4a2b-49e5-b59f-0db30649da94"
   },
   "outputs": [
    {
     "data": {
      "text/plain": [
       "'2.16.1'"
      ]
     },
     "execution_count": 2,
     "metadata": {},
     "output_type": "execute_result"
    }
   ],
   "source": [
    "tf.__version__"
   ]
  },
  {
   "cell_type": "markdown",
   "metadata": {
    "id": "MvE-heJNo3GG"
   },
   "source": [
    "### Preprocessing the Training set"
   ]
  },
  {
   "cell_type": "code",
   "execution_count": 3,
   "metadata": {
    "colab": {
     "base_uri": "https://localhost:8080/",
     "height": 367
    },
    "id": "5rNAm7OwEYgL",
    "outputId": "1b56afd1-ea69-4d1d-abe5-f6a0aad9e855"
   },
   "outputs": [
    {
     "name": "stdout",
     "output_type": "stream",
     "text": [
      "Found 28709 images belonging to 7 classes.\n"
     ]
    }
   ],
   "source": [
    "# Want to apply transformation on training set to avoid overfitting.\n",
    "# Simple geometrical transformations (transvections to shift pixels, flips, rotations, zoom in or out). This is called image augmentation. Changing images of training set so that it is not overtrained. We are augmenting the diversity of the training set images.\n",
    "\n",
    "train_datagen = ImageDataGenerator( # We use this transformations because this is what Keras did in their example.\n",
    "        rescale=1./255, # This will apply feature scaling to each pixel by dividing their value by 255. We get all values between 0 and 1 (like normalization).\n",
    "        shear_range=0.2, \n",
    "        zoom_range=0.2,\n",
    "        horizontal_flip=True)\n",
    "\n",
    "# Train this object to our training images\n",
    "training_set = train_datagen.flow_from_directory( # Import training set from our directory\n",
    "        '/Users/tomassalian/Desktop/Developer/Webcam Emotion Detector/FER-2013 Facial Expression Images/train', # Path leading to training set\n",
    "        target_size=(64, 64), # Final size of image when fed into the convolutional neural network.\n",
    "        batch_size=32, # How many images in each batch.\n",
    "        class_mode='categorical',\n",
    "        shuffle=True) # Binary or categorical. Since we only have class or dog, we do class mode = binary"
   ]
  },
  {
   "cell_type": "markdown",
   "metadata": {
    "id": "mrCMmGw9pHys"
   },
   "source": [
    "### Preprocessing the Test set"
   ]
  },
  {
   "cell_type": "code",
   "execution_count": 4,
   "metadata": {
    "id": "i3VgK2sXVPB3"
   },
   "outputs": [
    {
     "name": "stdout",
     "output_type": "stream",
     "text": [
      "Found 7178 images belonging to 7 classes.\n"
     ]
    }
   ],
   "source": [
    "test_datagen = ImageDataGenerator(rescale=1./255)\n",
    "\n",
    "test_set = test_datagen.flow_from_directory(\n",
    "       '/Users/tomassalian/Desktop/Developer/Webcam Emotion Detector/FER-2013 Facial Expression Images/test',\n",
    "        target_size=(64, 64),\n",
    "       batch_size=32,\n",
    "       class_mode='categorical')"
   ]
  },
  {
   "cell_type": "markdown",
   "metadata": {
    "id": "af8O4l90gk7B"
   },
   "source": [
    "## Part 2 - Building the CNN"
   ]
  },
  {
   "cell_type": "markdown",
   "metadata": {
    "id": "ces1gXY2lmoX"
   },
   "source": [
    "### Initialising the CNN"
   ]
  },
  {
   "cell_type": "code",
   "execution_count": 5,
   "metadata": {
    "id": "FU2XiqeCWHUe"
   },
   "outputs": [],
   "source": [
    "# A CNN is a sequence of layers\n",
    "from tensorflow.keras.models import Sequential\n",
    "\n",
    "cnn = Sequential() # Allows to create an ANN as a sequence of layers"
   ]
  },
  {
   "cell_type": "markdown",
   "metadata": {
    "id": "u5YJj_XMl5LF"
   },
   "source": [
    "### Step 1 - Convolution"
   ]
  },
  {
   "cell_type": "code",
   "execution_count": 6,
   "metadata": {
    "id": "jgxx5xAHWpcH"
   },
   "outputs": [],
   "source": [
    "# Conv2D class allows to build a fully connected layer from layers module in Keras library.\n",
    "# Filters is the number of feature detectors you want to apply to your image.\n",
    "# Size of the feature detectors (Rows and columns).\n",
    "# We prefer ReLU activation function if we haven't reached output layer.\n",
    "# Working with 3D images (RGB colors). So end of input_shape is a 3. For black and white, it's 1. input_shape only necessary for first convolutional layer in order to automatically connect this first layer to the input layer\n",
    "from tensorflow.keras.layers import Input, Conv2D, MaxPool2D\n",
    "\n",
    "cnn.add(Input(shape=(64, 64, 3)))\n",
    "cnn.add(Conv2D(filters=64, kernel_size=3, activation='relu')) # Adding our first convolutional layer\n"
   ]
  },
  {
   "cell_type": "markdown",
   "metadata": {
    "id": "tf87FpvxmNOJ"
   },
   "source": [
    "### Step 2 - Pooling"
   ]
  },
  {
   "cell_type": "code",
   "execution_count": 7,
   "metadata": {
    "id": "o27INzLJYbYb"
   },
   "outputs": [],
   "source": [
    "# Add pooling layer to our convolutional layer\n",
    "\n",
    "cnn.add(MaxPool2D(pool_size=2, strides=2)) # Adding our first pooling layer"
   ]
  },
  {
   "cell_type": "markdown",
   "metadata": {
    "id": "xaTOgD8rm4mU"
   },
   "source": [
    "### Adding a second convolutional layer"
   ]
  },
  {
   "cell_type": "code",
   "execution_count": 8,
   "metadata": {
    "id": "KCf3mRG6Z_Rc"
   },
   "outputs": [],
   "source": [
    "cnn.add(Conv2D(filters=32, kernel_size=3, activation='relu'))\n",
    "cnn.add(MaxPool2D(pool_size=2, strides=2))"
   ]
  },
  {
   "cell_type": "markdown",
   "metadata": {
    "id": "tmiEuvTunKfk"
   },
   "source": [
    "### Step 3 - Flattening"
   ]
  },
  {
   "cell_type": "code",
   "execution_count": 9,
   "metadata": {
    "id": "Oi9FBaI-affn"
   },
   "outputs": [],
   "source": [
    "from tensorflow.keras.layers import Flatten\n",
    "\n",
    "cnn.add(Flatten())"
   ]
  },
  {
   "cell_type": "markdown",
   "metadata": {
    "id": "dAoSECOm203v"
   },
   "source": [
    "### Step 4 - Full Connection"
   ]
  },
  {
   "cell_type": "code",
   "execution_count": 10,
   "metadata": {
    "id": "8sAcuszTaoh9"
   },
   "outputs": [],
   "source": [
    "# Units is the number of hidden neurons\n",
    "# Activation ReLU because still did not reach output layer\n",
    "from tensorflow.keras.layers import Dense\n",
    "\n",
    "cnn.add(Dense(units=1024, activation='relu')) # Adding the first fully connected layer\n",
    "\n",
    "# Adding a second layer doesnt do much"
   ]
  },
  {
   "cell_type": "markdown",
   "metadata": {
    "id": "yTldFvbX28Na"
   },
   "source": [
    "### Step 5 - Output Layer"
   ]
  },
  {
   "cell_type": "code",
   "execution_count": 11,
   "metadata": {
    "id": "HDNyua5PbH8h"
   },
   "outputs": [],
   "source": [
    "# If it was not binary classification, if it was multiclass it would be softmax.\n",
    "cnn.add(Dense(units=7, activation='softmax')) # Adding the output layer."
   ]
  },
  {
   "cell_type": "code",
   "execution_count": 12,
   "metadata": {},
   "outputs": [
    {
     "data": {
      "text/html": [
       "<pre style=\"white-space:pre;overflow-x:auto;line-height:normal;font-family:Menlo,'DejaVu Sans Mono',consolas,'Courier New',monospace\"><span style=\"font-weight: bold\">Model: \"sequential\"</span>\n",
       "</pre>\n"
      ],
      "text/plain": [
       "\u001b[1mModel: \"sequential\"\u001b[0m\n"
      ]
     },
     "metadata": {},
     "output_type": "display_data"
    },
    {
     "data": {
      "text/html": [
       "<pre style=\"white-space:pre;overflow-x:auto;line-height:normal;font-family:Menlo,'DejaVu Sans Mono',consolas,'Courier New',monospace\">┏━━━━━━━━━━━━━━━━━━━━━━━━━━━━━━━━━┳━━━━━━━━━━━━━━━━━━━━━━━━┳━━━━━━━━━━━━━━━┓\n",
       "┃<span style=\"font-weight: bold\"> Layer (type)                    </span>┃<span style=\"font-weight: bold\"> Output Shape           </span>┃<span style=\"font-weight: bold\">       Param # </span>┃\n",
       "┡━━━━━━━━━━━━━━━━━━━━━━━━━━━━━━━━━╇━━━━━━━━━━━━━━━━━━━━━━━━╇━━━━━━━━━━━━━━━┩\n",
       "│ conv2d (<span style=\"color: #0087ff; text-decoration-color: #0087ff\">Conv2D</span>)                 │ (<span style=\"color: #00d7ff; text-decoration-color: #00d7ff\">None</span>, <span style=\"color: #00af00; text-decoration-color: #00af00\">62</span>, <span style=\"color: #00af00; text-decoration-color: #00af00\">62</span>, <span style=\"color: #00af00; text-decoration-color: #00af00\">64</span>)     │         <span style=\"color: #00af00; text-decoration-color: #00af00\">1,792</span> │\n",
       "├─────────────────────────────────┼────────────────────────┼───────────────┤\n",
       "│ max_pooling2d (<span style=\"color: #0087ff; text-decoration-color: #0087ff\">MaxPooling2D</span>)    │ (<span style=\"color: #00d7ff; text-decoration-color: #00d7ff\">None</span>, <span style=\"color: #00af00; text-decoration-color: #00af00\">31</span>, <span style=\"color: #00af00; text-decoration-color: #00af00\">31</span>, <span style=\"color: #00af00; text-decoration-color: #00af00\">64</span>)     │             <span style=\"color: #00af00; text-decoration-color: #00af00\">0</span> │\n",
       "├─────────────────────────────────┼────────────────────────┼───────────────┤\n",
       "│ conv2d_1 (<span style=\"color: #0087ff; text-decoration-color: #0087ff\">Conv2D</span>)               │ (<span style=\"color: #00d7ff; text-decoration-color: #00d7ff\">None</span>, <span style=\"color: #00af00; text-decoration-color: #00af00\">29</span>, <span style=\"color: #00af00; text-decoration-color: #00af00\">29</span>, <span style=\"color: #00af00; text-decoration-color: #00af00\">32</span>)     │        <span style=\"color: #00af00; text-decoration-color: #00af00\">18,464</span> │\n",
       "├─────────────────────────────────┼────────────────────────┼───────────────┤\n",
       "│ max_pooling2d_1 (<span style=\"color: #0087ff; text-decoration-color: #0087ff\">MaxPooling2D</span>)  │ (<span style=\"color: #00d7ff; text-decoration-color: #00d7ff\">None</span>, <span style=\"color: #00af00; text-decoration-color: #00af00\">14</span>, <span style=\"color: #00af00; text-decoration-color: #00af00\">14</span>, <span style=\"color: #00af00; text-decoration-color: #00af00\">32</span>)     │             <span style=\"color: #00af00; text-decoration-color: #00af00\">0</span> │\n",
       "├─────────────────────────────────┼────────────────────────┼───────────────┤\n",
       "│ flatten (<span style=\"color: #0087ff; text-decoration-color: #0087ff\">Flatten</span>)               │ (<span style=\"color: #00d7ff; text-decoration-color: #00d7ff\">None</span>, <span style=\"color: #00af00; text-decoration-color: #00af00\">6272</span>)           │             <span style=\"color: #00af00; text-decoration-color: #00af00\">0</span> │\n",
       "├─────────────────────────────────┼────────────────────────┼───────────────┤\n",
       "│ dense (<span style=\"color: #0087ff; text-decoration-color: #0087ff\">Dense</span>)                   │ (<span style=\"color: #00d7ff; text-decoration-color: #00d7ff\">None</span>, <span style=\"color: #00af00; text-decoration-color: #00af00\">1024</span>)           │     <span style=\"color: #00af00; text-decoration-color: #00af00\">6,423,552</span> │\n",
       "├─────────────────────────────────┼────────────────────────┼───────────────┤\n",
       "│ dense_1 (<span style=\"color: #0087ff; text-decoration-color: #0087ff\">Dense</span>)                 │ (<span style=\"color: #00d7ff; text-decoration-color: #00d7ff\">None</span>, <span style=\"color: #00af00; text-decoration-color: #00af00\">7</span>)              │         <span style=\"color: #00af00; text-decoration-color: #00af00\">7,175</span> │\n",
       "└─────────────────────────────────┴────────────────────────┴───────────────┘\n",
       "</pre>\n"
      ],
      "text/plain": [
       "┏━━━━━━━━━━━━━━━━━━━━━━━━━━━━━━━━━┳━━━━━━━━━━━━━━━━━━━━━━━━┳━━━━━━━━━━━━━━━┓\n",
       "┃\u001b[1m \u001b[0m\u001b[1mLayer (type)                   \u001b[0m\u001b[1m \u001b[0m┃\u001b[1m \u001b[0m\u001b[1mOutput Shape          \u001b[0m\u001b[1m \u001b[0m┃\u001b[1m \u001b[0m\u001b[1m      Param #\u001b[0m\u001b[1m \u001b[0m┃\n",
       "┡━━━━━━━━━━━━━━━━━━━━━━━━━━━━━━━━━╇━━━━━━━━━━━━━━━━━━━━━━━━╇━━━━━━━━━━━━━━━┩\n",
       "│ conv2d (\u001b[38;5;33mConv2D\u001b[0m)                 │ (\u001b[38;5;45mNone\u001b[0m, \u001b[38;5;34m62\u001b[0m, \u001b[38;5;34m62\u001b[0m, \u001b[38;5;34m64\u001b[0m)     │         \u001b[38;5;34m1,792\u001b[0m │\n",
       "├─────────────────────────────────┼────────────────────────┼───────────────┤\n",
       "│ max_pooling2d (\u001b[38;5;33mMaxPooling2D\u001b[0m)    │ (\u001b[38;5;45mNone\u001b[0m, \u001b[38;5;34m31\u001b[0m, \u001b[38;5;34m31\u001b[0m, \u001b[38;5;34m64\u001b[0m)     │             \u001b[38;5;34m0\u001b[0m │\n",
       "├─────────────────────────────────┼────────────────────────┼───────────────┤\n",
       "│ conv2d_1 (\u001b[38;5;33mConv2D\u001b[0m)               │ (\u001b[38;5;45mNone\u001b[0m, \u001b[38;5;34m29\u001b[0m, \u001b[38;5;34m29\u001b[0m, \u001b[38;5;34m32\u001b[0m)     │        \u001b[38;5;34m18,464\u001b[0m │\n",
       "├─────────────────────────────────┼────────────────────────┼───────────────┤\n",
       "│ max_pooling2d_1 (\u001b[38;5;33mMaxPooling2D\u001b[0m)  │ (\u001b[38;5;45mNone\u001b[0m, \u001b[38;5;34m14\u001b[0m, \u001b[38;5;34m14\u001b[0m, \u001b[38;5;34m32\u001b[0m)     │             \u001b[38;5;34m0\u001b[0m │\n",
       "├─────────────────────────────────┼────────────────────────┼───────────────┤\n",
       "│ flatten (\u001b[38;5;33mFlatten\u001b[0m)               │ (\u001b[38;5;45mNone\u001b[0m, \u001b[38;5;34m6272\u001b[0m)           │             \u001b[38;5;34m0\u001b[0m │\n",
       "├─────────────────────────────────┼────────────────────────┼───────────────┤\n",
       "│ dense (\u001b[38;5;33mDense\u001b[0m)                   │ (\u001b[38;5;45mNone\u001b[0m, \u001b[38;5;34m1024\u001b[0m)           │     \u001b[38;5;34m6,423,552\u001b[0m │\n",
       "├─────────────────────────────────┼────────────────────────┼───────────────┤\n",
       "│ dense_1 (\u001b[38;5;33mDense\u001b[0m)                 │ (\u001b[38;5;45mNone\u001b[0m, \u001b[38;5;34m7\u001b[0m)              │         \u001b[38;5;34m7,175\u001b[0m │\n",
       "└─────────────────────────────────┴────────────────────────┴───────────────┘\n"
      ]
     },
     "metadata": {},
     "output_type": "display_data"
    },
    {
     "data": {
      "text/html": [
       "<pre style=\"white-space:pre;overflow-x:auto;line-height:normal;font-family:Menlo,'DejaVu Sans Mono',consolas,'Courier New',monospace\"><span style=\"font-weight: bold\"> Total params: </span><span style=\"color: #00af00; text-decoration-color: #00af00\">6,450,983</span> (24.61 MB)\n",
       "</pre>\n"
      ],
      "text/plain": [
       "\u001b[1m Total params: \u001b[0m\u001b[38;5;34m6,450,983\u001b[0m (24.61 MB)\n"
      ]
     },
     "metadata": {},
     "output_type": "display_data"
    },
    {
     "data": {
      "text/html": [
       "<pre style=\"white-space:pre;overflow-x:auto;line-height:normal;font-family:Menlo,'DejaVu Sans Mono',consolas,'Courier New',monospace\"><span style=\"font-weight: bold\"> Trainable params: </span><span style=\"color: #00af00; text-decoration-color: #00af00\">6,450,983</span> (24.61 MB)\n",
       "</pre>\n"
      ],
      "text/plain": [
       "\u001b[1m Trainable params: \u001b[0m\u001b[38;5;34m6,450,983\u001b[0m (24.61 MB)\n"
      ]
     },
     "metadata": {},
     "output_type": "display_data"
    },
    {
     "data": {
      "text/html": [
       "<pre style=\"white-space:pre;overflow-x:auto;line-height:normal;font-family:Menlo,'DejaVu Sans Mono',consolas,'Courier New',monospace\"><span style=\"font-weight: bold\"> Non-trainable params: </span><span style=\"color: #00af00; text-decoration-color: #00af00\">0</span> (0.00 B)\n",
       "</pre>\n"
      ],
      "text/plain": [
       "\u001b[1m Non-trainable params: \u001b[0m\u001b[38;5;34m0\u001b[0m (0.00 B)\n"
      ]
     },
     "metadata": {},
     "output_type": "display_data"
    }
   ],
   "source": [
    "cnn.summary()"
   ]
  },
  {
   "cell_type": "markdown",
   "metadata": {
    "id": "D6XkI90snSDl"
   },
   "source": [
    "## Part 3 - Training the CNN"
   ]
  },
  {
   "cell_type": "markdown",
   "metadata": {
    "id": "vfrFQACEnc6i"
   },
   "source": [
    "### Compiling the CNN"
   ]
  },
  {
   "cell_type": "code",
   "execution_count": 13,
   "metadata": {
    "id": "dY7NalDsdsKt"
   },
   "outputs": [],
   "source": [
    "# Optimizer: Specifies method used to adjust the weights of the network during training. Optimizers minimize the loss function, which is a measure of how well the model is performing. The optimizer updates the model in response to the output of the loss function.\n",
    "#   Adam (Adaptive Moment Estimation): One of the most effective optimization algorithms\n",
    "# Loss Function: This defines the measure of error for the model during training. The loss function evaluates how well the model makes predictions compared to the actual labels.\n",
    "#   Categorical Crossentropy: This is a loss function that is used in categorical classification\n",
    "# Metrics: These are used to monitor the training and testing steps. Unlike the loss function, metrics are used for evaluation and interpretation but not for training model itself.\n",
    "#    For binary classification, it calculates the percentage of correctly predicted labels\n",
    "from tensorflow.keras.optimizers import Adam\n",
    "\n",
    "cnn.compile(optimizer = 'adam', loss = 'categorical_crossentropy', metrics = ['accuracy']) # Compiling the CNN\n"
   ]
  },
  {
   "cell_type": "code",
   "execution_count": 14,
   "metadata": {},
   "outputs": [
    {
     "name": "stdout",
     "output_type": "stream",
     "text": [
      "Class Weights:  {0: 1.0265980265980266, 1: 9.387381497221314, 2: 1.00104580631667, 3: 0.5684985745961356, 4: 0.8491587071591211, 5: 1.2932804900018016, 6: 0.8260744491110983}\n"
     ]
    }
   ],
   "source": [
    "import numpy as np\n",
    "from sklearn.utils.class_weight import compute_class_weight\n",
    "\n",
    "# Class distribution\n",
    "classes = np.array([0]*3996 + [1]*437 + [2]*4098 + [3]*7216 + [4]*4831 + [5]*3172 + [6]*4966)\n",
    "\n",
    "# Calculate class weights\n",
    "class_weights = compute_class_weight(\n",
    "    class_weight='balanced',\n",
    "    classes=np.unique(classes),\n",
    "    y=classes)\n",
    "\n",
    "class_weight_dict = dict(enumerate(class_weights))\n",
    "print(\"Class Weights: \", class_weight_dict)\n"
   ]
  },
  {
   "cell_type": "markdown",
   "metadata": {
    "id": "ehS-v3MIpX2h"
   },
   "source": [
    "### Training the CNN on the Training set and evaluating it on the Test set"
   ]
  },
  {
   "cell_type": "code",
   "execution_count": null,
   "metadata": {
    "id": "Di5yl1oWfGTk"
   },
   "outputs": [
    {
     "name": "stdout",
     "output_type": "stream",
     "text": [
      "Epoch 1/100\n"
     ]
    },
    {
     "name": "stderr",
     "output_type": "stream",
     "text": [
      "/opt/anaconda3/lib/python3.11/site-packages/keras/src/trainers/data_adapters/py_dataset_adapter.py:121: UserWarning: Your `PyDataset` class should call `super().__init__(**kwargs)` in its constructor. `**kwargs` can include `workers`, `use_multiprocessing`, `max_queue_size`. Do not pass these arguments to `fit()`, as they will be ignored.\n",
      "  self._warn_if_super_not_called()\n"
     ]
    },
    {
     "name": "stdout",
     "output_type": "stream",
     "text": [
      "\u001b[1m898/898\u001b[0m \u001b[32m━━━━━━━━━━━━━━━━━━━━\u001b[0m\u001b[37m\u001b[0m \u001b[1m58s\u001b[0m 63ms/step - accuracy: 0.1765 - loss: 1.9672 - val_accuracy: 0.2722 - val_loss: 1.8143\n",
      "Epoch 2/100\n",
      "\u001b[1m898/898\u001b[0m \u001b[32m━━━━━━━━━━━━━━━━━━━━\u001b[0m\u001b[37m\u001b[0m \u001b[1m60s\u001b[0m 67ms/step - accuracy: 0.2751 - loss: 1.8394 - val_accuracy: 0.3543 - val_loss: 1.6474\n",
      "Epoch 3/100\n",
      "\u001b[1m898/898\u001b[0m \u001b[32m━━━━━━━━━━━━━━━━━━━━\u001b[0m\u001b[37m\u001b[0m \u001b[1m61s\u001b[0m 68ms/step - accuracy: 0.3390 - loss: 1.7271 - val_accuracy: 0.3826 - val_loss: 1.5713\n",
      "Epoch 4/100\n",
      "\u001b[1m898/898\u001b[0m \u001b[32m━━━━━━━━━━━━━━━━━━━━\u001b[0m\u001b[37m\u001b[0m \u001b[1m62s\u001b[0m 68ms/step - accuracy: 0.3806 - loss: 1.6269 - val_accuracy: 0.4164 - val_loss: 1.5313\n",
      "Epoch 5/100\n",
      "\u001b[1m898/898\u001b[0m \u001b[32m━━━━━━━━━━━━━━━━━━━━\u001b[0m\u001b[37m\u001b[0m \u001b[1m62s\u001b[0m 69ms/step - accuracy: 0.4200 - loss: 1.5287 - val_accuracy: 0.4412 - val_loss: 1.4550\n",
      "Epoch 6/100\n",
      "\u001b[1m898/898\u001b[0m \u001b[32m━━━━━━━━━━━━━━━━━━━━\u001b[0m\u001b[37m\u001b[0m \u001b[1m62s\u001b[0m 69ms/step - accuracy: 0.4518 - loss: 1.4721 - val_accuracy: 0.4575 - val_loss: 1.4261\n",
      "Epoch 7/100\n",
      "\u001b[1m898/898\u001b[0m \u001b[32m━━━━━━━━━━━━━━━━━━━━\u001b[0m\u001b[37m\u001b[0m \u001b[1m63s\u001b[0m 70ms/step - accuracy: 0.4747 - loss: 1.3930 - val_accuracy: 0.4798 - val_loss: 1.3759\n",
      "Epoch 8/100\n",
      "\u001b[1m898/898\u001b[0m \u001b[32m━━━━━━━━━━━━━━━━━━━━\u001b[0m\u001b[37m\u001b[0m \u001b[1m63s\u001b[0m 70ms/step - accuracy: 0.4943 - loss: 1.3484 - val_accuracy: 0.4889 - val_loss: 1.3557\n",
      "Epoch 9/100\n",
      "\u001b[1m898/898\u001b[0m \u001b[32m━━━━━━━━━━━━━━━━━━━━\u001b[0m\u001b[37m\u001b[0m \u001b[1m63s\u001b[0m 70ms/step - accuracy: 0.5084 - loss: 1.3130 - val_accuracy: 0.4652 - val_loss: 1.4190\n",
      "Epoch 10/100\n",
      "\u001b[1m898/898\u001b[0m \u001b[32m━━━━━━━━━━━━━━━━━━━━\u001b[0m\u001b[37m\u001b[0m \u001b[1m63s\u001b[0m 70ms/step - accuracy: 0.5287 - loss: 1.2546 - val_accuracy: 0.4965 - val_loss: 1.3641\n",
      "Epoch 11/100\n",
      "\u001b[1m898/898\u001b[0m \u001b[32m━━━━━━━━━━━━━━━━━━━━\u001b[0m\u001b[37m\u001b[0m \u001b[1m63s\u001b[0m 70ms/step - accuracy: 0.5424 - loss: 1.2147 - val_accuracy: 0.4930 - val_loss: 1.3829\n",
      "Epoch 12/100\n",
      "\u001b[1m898/898\u001b[0m \u001b[32m━━━━━━━━━━━━━━━━━━━━\u001b[0m\u001b[37m\u001b[0m \u001b[1m63s\u001b[0m 70ms/step - accuracy: 0.5614 - loss: 1.1663 - val_accuracy: 0.4850 - val_loss: 1.4084\n",
      "Epoch 13/100\n",
      "\u001b[1m898/898\u001b[0m \u001b[32m━━━━━━━━━━━━━━━━━━━━\u001b[0m\u001b[37m\u001b[0m \u001b[1m62s\u001b[0m 69ms/step - accuracy: 0.5735 - loss: 1.1337 - val_accuracy: 0.5025 - val_loss: 1.3647\n",
      "Epoch 14/100\n",
      "\u001b[1m898/898\u001b[0m \u001b[32m━━━━━━━━━━━━━━━━━━━━\u001b[0m\u001b[37m\u001b[0m \u001b[1m62s\u001b[0m 69ms/step - accuracy: 0.5951 - loss: 1.0852 - val_accuracy: 0.5143 - val_loss: 1.3551\n",
      "Epoch 15/100\n",
      "\u001b[1m898/898\u001b[0m \u001b[32m━━━━━━━━━━━━━━━━━━━━\u001b[0m\u001b[37m\u001b[0m \u001b[1m63s\u001b[0m 70ms/step - accuracy: 0.5996 - loss: 1.0622 - val_accuracy: 0.5201 - val_loss: 1.3494\n",
      "Epoch 16/100\n",
      "\u001b[1m898/898\u001b[0m \u001b[32m━━━━━━━━━━━━━━━━━━━━\u001b[0m\u001b[37m\u001b[0m \u001b[1m62s\u001b[0m 69ms/step - accuracy: 0.6183 - loss: 1.0163 - val_accuracy: 0.5245 - val_loss: 1.3695\n",
      "Epoch 17/100\n",
      "\u001b[1m898/898\u001b[0m \u001b[32m━━━━━━━━━━━━━━━━━━━━\u001b[0m\u001b[37m\u001b[0m \u001b[1m64s\u001b[0m 71ms/step - accuracy: 0.6274 - loss: 0.9717 - val_accuracy: 0.5255 - val_loss: 1.3376\n",
      "Epoch 18/100\n",
      "\u001b[1m898/898\u001b[0m \u001b[32m━━━━━━━━━━━━━━━━━━━━\u001b[0m\u001b[37m\u001b[0m \u001b[1m0s\u001b[0m 66ms/step - accuracy: 0.6381 - loss: 0.9545"
     ]
    }
   ],
   "source": [
    "from tensorflow.keras.callbacks import EarlyStopping\n",
    "\n",
    "early_stopping = EarlyStopping(monitor='val_loss', patience=10, restore_best_weights=True)\n",
    "\n",
    "cnn.fit(\n",
    "    x=training_set,\n",
    "    validation_data=test_set,\n",
    "    epochs=100,\n",
    "    callbacks=[early_stopping],\n",
    "    class_weight=class_weight_dict\n",
    ")\n",
    "\n",
    "# Current best stats: 1024 units, simple randomization, 0.001 learning rate, first convolutional layer = 64 filters, second convolutional layer = 32 filters\n",
    "#                     Relu after each Conv2D, batch size = 32 (about 8-10s longer per epoch but 3% more accurate at epoch 5)\n",
    "# Current best accuracy with this, ~0.51 at Epoch 5/20 and 0.8942 at Epoch 100/100\n"
   ]
  },
  {
   "cell_type": "code",
   "execution_count": 16,
   "metadata": {},
   "outputs": [
    {
     "ename": "NameError",
     "evalue": "name 'history' is not defined",
     "output_type": "error",
     "traceback": [
      "\u001b[0;31m---------------------------------------------------------------------------\u001b[0m",
      "\u001b[0;31mNameError\u001b[0m                                 Traceback (most recent call last)",
      "Cell \u001b[0;32mIn[16], line 7\u001b[0m\n\u001b[1;32m      4\u001b[0m plt\u001b[38;5;241m.\u001b[39mfigure(figsize\u001b[38;5;241m=\u001b[39m(\u001b[38;5;241m12\u001b[39m, \u001b[38;5;241m6\u001b[39m))\n\u001b[1;32m      6\u001b[0m plt\u001b[38;5;241m.\u001b[39msubplot(\u001b[38;5;241m1\u001b[39m, \u001b[38;5;241m2\u001b[39m, \u001b[38;5;241m1\u001b[39m)  \u001b[38;5;66;03m# 1 row, 2 columns, 1st subplot\u001b[39;00m\n\u001b[0;32m----> 7\u001b[0m plt\u001b[38;5;241m.\u001b[39mplot(history\u001b[38;5;241m.\u001b[39mhistory[\u001b[38;5;124m'\u001b[39m\u001b[38;5;124maccuracy\u001b[39m\u001b[38;5;124m'\u001b[39m])  \u001b[38;5;66;03m# Replace 'accuracy' with 'acc' if using an older version of Keras\u001b[39;00m\n\u001b[1;32m      8\u001b[0m plt\u001b[38;5;241m.\u001b[39mplot(history\u001b[38;5;241m.\u001b[39mhistory[\u001b[38;5;124m'\u001b[39m\u001b[38;5;124mval_accuracy\u001b[39m\u001b[38;5;124m'\u001b[39m])  \u001b[38;5;66;03m# Replace 'val_accuracy' with 'val_acc' if using an older version of Keras\u001b[39;00m\n\u001b[1;32m      9\u001b[0m plt\u001b[38;5;241m.\u001b[39mtitle(\u001b[38;5;124m'\u001b[39m\u001b[38;5;124mModel Accuracy\u001b[39m\u001b[38;5;124m'\u001b[39m)\n",
      "\u001b[0;31mNameError\u001b[0m: name 'history' is not defined"
     ]
    },
    {
     "data": {
      "image/png": "[encoded data removed]",
      "text/plain": [
       "<Figure size 1200x600 with 1 Axes>"
      ]
     },
     "metadata": {},
     "output_type": "display_data"
    }
   ],
   "source": [
    "import matplotlib.pyplot as plt\n",
    "\n",
    "# Summarize history for accuracy\n",
    "plt.figure(figsize=(12, 6))\n",
    "\n",
    "plt.subplot(1, 2, 1)  # 1 row, 2 columns, 1st subplot\n",
    "plt.plot(cnn.history['accuracy'])  # Replace 'accuracy' with 'acc' if using an older version of Keras\n",
    "plt.plot(cnn.history['val_accuracy'])  # Replace 'val_accuracy' with 'val_acc' if using an older version of Keras\n",
    "plt.title('Model Accuracy')\n",
    "plt.ylabel('Accuracy')\n",
    "plt.xlabel('Epoch')\n",
    "plt.legend(['Train', 'Validation'], loc='upper left')\n",
    "\n",
    "# Summarize history for loss\n",
    "plt.subplot(1, 2, 2)  # 1 row, 2 columns, 2nd subplot\n",
    "plt.plot(history.history['loss'])\n",
    "plt.plot(history.history['val_loss'])\n",
    "plt.title('Model Loss')\n",
    "plt.ylabel('Loss')\n",
    "plt.xlabel('Epoch')\n",
    "plt.legend(['Train', 'Validation'], loc='upper left')\n",
    "\n",
    "plt.tight_layout()\n",
    "plt.show()"
   ]
  },
  {
   "cell_type": "code",
   "execution_count": 17,
   "metadata": {},
   "outputs": [],
   "source": [
    "cnn.save('70_emotion_model.keras')"
   ]
  },
  {
   "cell_type": "markdown",
   "metadata": {
    "id": "U3PZasO0006Z"
   },
   "source": [
    "## Part 4 - Making a single prediction"
   ]
  },
  {
   "cell_type": "code",
   "execution_count": 20,
   "metadata": {
    "id": "86bghiYMgFel"
   },
   "outputs": [
    {
     "name": "stdout",
     "output_type": "stream",
     "text": [
      "\u001b[1m1/1\u001b[0m \u001b[32m━━━━━━━━━━━━━━━━━━━━\u001b[0m\u001b[37m\u001b[0m \u001b[1m0s\u001b[0m 13ms/step\n",
      "Shape of predictions: (7,)\n",
      "Predictions: [0.09919152 0.00314103 0.13556992 0.17587022 0.16333355 0.3502152\n",
      " 0.07267857]\n",
      "Sorted indices: [5 3 4 2 0 6 1]\n",
      "Most likely emotion: Surprise\n",
      "Second most likely emotion: Happy\n",
      "Third most likely emotion: Sad\n"
     ]
    }
   ],
   "source": [
    "import numpy as np\n",
    "from keras.preprocessing import image\n",
    "test_image = image.load_img('/Users/tomassalian/Desktop/Developer/Webcam Emotion Detector/Kanye Test Subject.jpeg', target_size = (64,64))\n",
    "test_image = image.img_to_array(test_image) # Convert pil format (format of images) into a NumPy array because predict method expects a 2D array\n",
    "# Because we made the batch 32, this image needs to be a part of a batch\n",
    "test_image = test_image/255.0\n",
    "test_image = np.expand_dims(test_image, axis = 0) # We add to it an extra dimension, correponding to a batch. The dimension of the batch is always the first dimension because you give first the batch of images and then inside each batch, you have the images.\n",
    "                                                  # Parameter to specify this is axis = 0, so the dimension we are adding is the first dimension\n",
    "# Predict the emotions\n",
    "predictions = cnn.predict(test_image)\n",
    "\n",
    "# Ensure predictions are squeezed to eliminate batch dimension if it exists\n",
    "predictions = np.squeeze(predictions)\n",
    "\n",
    "# Check the shape of predictions\n",
    "print(\"Shape of predictions:\", predictions.shape)\n",
    "\n",
    "# Get indices of the sorted probabilities (in descending order)\n",
    "sorted_indices = np.argsort(predictions)[::-1]\n",
    "\n",
    "# Define your class indices\n",
    "emotions = ['Angry', 'Disgust', 'Fear', 'Happy', 'Sad', 'Surprise', 'Neutral']\n",
    "\n",
    "# Print predictions and their corresponding emotions for debugging\n",
    "print(\"Predictions:\", predictions)\n",
    "print(\"Sorted indices:\", sorted_indices)\n",
    "\n",
    "# Retrieve and print top three emotions based on the indices\n",
    "if len(predictions) >= 3:\n",
    "    top_three_emotions = [emotions[index] for index in sorted_indices[:3]]\n",
    "    print(\"Most likely emotion:\", top_three_emotions[0])\n",
    "    print(\"Second most likely emotion:\", top_three_emotions[1])\n",
    "    print(\"Third most likely emotion:\", top_three_emotions[2])\n",
    "else:\n",
    "    print(\"Not enough data to determine top three emotions.\")"
   ]
  },
  {
   "cell_type": "code",
   "execution_count": 10,
   "metadata": {},
   "outputs": [
    {
     "name": "stdout",
     "output_type": "stream",
     "text": [
      "Found 7178 images belonging to 7 classes.\n",
      "\u001b[1m  81/7178\u001b[0m \u001b[37m━━━━━━━━━━━━━━━━━━━━\u001b[0m \u001b[1m13s\u001b[0m 2ms/step"
     ]
    },
    {
     "name": "stderr",
     "output_type": "stream",
     "text": [
      "/var/folders/xk/bm586yz91nn5_jsf3_csn7f80000gn/T/ipykernel_22805/646084184.py:27: DeprecationWarning: `np.math` is a deprecated alias for the standard library `math` module (Deprecated Numpy 1.25). Replace usages of `np.math` with `math`\n",
      "  test_steps_per_epoch = np.math.ceil(test_generator.samples / test_generator.batch_size)\n",
      "/opt/anaconda3/lib/python3.11/site-packages/keras/src/trainers/data_adapters/py_dataset_adapter.py:121: UserWarning: Your `PyDataset` class should call `super().__init__(**kwargs)` in its constructor. `**kwargs` can include `workers`, `use_multiprocessing`, `max_queue_size`. Do not pass these arguments to `fit()`, as they will be ignored.\n",
      "  self._warn_if_super_not_called()\n"
     ]
    },
    {
     "name": "stdout",
     "output_type": "stream",
     "text": [
      "\u001b[1m7178/7178\u001b[0m \u001b[32m━━━━━━━━━━━━━━━━━━━━\u001b[0m\u001b[37m\u001b[0m \u001b[1m13s\u001b[0m 2ms/step\n",
      "Confusion matrix, without normalization\n"
     ]
    },
    {
     "data": {
      "image/png": "[encoded data removed]",
      "text/plain": [
       "<Figure size 640x480 with 2 Axes>"
      ]
     },
     "metadata": {},
     "output_type": "display_data"
    }
   ],
   "source": [
    "from sklearn.metrics import confusion_matrix\n",
    "import cv2\n",
    "import numpy as np\n",
    "from tensorflow.keras.models import load_model\n",
    "from tensorflow.keras.preprocessing.image import img_to_array\n",
    "from tensorflow.keras.preprocessing.image import ImageDataGenerator\n",
    "import matplotlib.pyplot as plt\n",
    "\n",
    "\n",
    "# Assuming you have a directory with organized test data\n",
    "test_data_dir = '/Users/tomassalian/Desktop/Developer/Webcam Emotion Detector/FER-2013 Facial Expression Images/test'  # Update this path\n",
    "\n",
    "# Load the model\n",
    "model = load_model('/Users/tomassalian/Desktop/Developer/Webcam Emotion Detector/Executable Files/Models/70_emotion_model.keras')  # Update this path\n",
    "\n",
    "# Prepare the test data\n",
    "test_datagen = ImageDataGenerator(rescale=1./255)\n",
    "test_generator = test_datagen.flow_from_directory(\n",
    "    test_data_dir,\n",
    "    target_size=(64, 64),  # or the input size of your model\n",
    "    color_mode='rgb',\n",
    "    batch_size=1,\n",
    "    class_mode='categorical',\n",
    "    shuffle=False)\n",
    "\n",
    "# Predict the test data\n",
    "test_steps_per_epoch = np.math.ceil(test_generator.samples / test_generator.batch_size)\n",
    "predictions = model.predict(test_generator, steps=test_steps_per_epoch)\n",
    "predicted_classes = np.argmax(predictions, axis=1)\n",
    "true_classes = test_generator.classes\n",
    "class_labels = list(test_generator.class_indices.keys())\n",
    "\n",
    "# Compute the confusion matrix\n",
    "cm = confusion_matrix(true_classes, predicted_classes)\n",
    "\n",
    "# Function to plot the confusion matrix\n",
    "def plot_confusion_matrix(cm, classes,\n",
    "                          normalize=False,\n",
    "                          title='Confusion Matrix 70% Accuracy Model',\n",
    "                          cmap=plt.cm.Blues):\n",
    "    plt.imshow(cm, interpolation='nearest', cmap=cmap)\n",
    "    plt.title(title)\n",
    "    plt.colorbar()\n",
    "    tick_marks = np.arange(len(classes))\n",
    "    plt.xticks(tick_marks, classes, rotation=45)\n",
    "    plt.yticks(tick_marks, classes)\n",
    "\n",
    "    if normalize:\n",
    "        cm = cm.astype('float') / cm.sum(axis=1)[:, np.newaxis]\n",
    "        print(\"Normalized confusion matrix\")\n",
    "    else:\n",
    "        print('Confusion matrix, without normalization')\n",
    "\n",
    "    thresh = cm.max() / 2.\n",
    "    for i, j in np.ndindex(cm.shape):\n",
    "        plt.text(j, i, cm[i, j],\n",
    "                 horizontalalignment=\"center\",\n",
    "                 color=\"white\" if cm[i, j] > thresh else \"black\")\n",
    "\n",
    "    plt.tight_layout()\n",
    "    plt.ylabel('True label')\n",
    "    plt.xlabel('Predicted label')\n",
    "\n",
    "# Plot the confusion matrix\n",
    "plot_confusion_matrix(cm, class_labels)\n",
    "\n",
    "plt.show()\n"
   ]
  },
  {
   "cell_type": "code",
   "execution_count": null,
   "metadata": {},
   "outputs": [],
   "source": [
    "training_set.classes\n",
    "test_set.classes"
   ]
  },
  {
   "cell_type": "code",
   "execution_count": null,
   "metadata": {},
   "outputs": [],
   "source": []
  }
 ],
 "metadata": {
  "colab": {
   "provenance": []
  },
  "kernelspec": {
   "display_name": "Python 3 (ipykernel)",
   "language": "python",
   "name": "python3"
  },
  "language_info": {
   "codemirror_mode": {
    "name": "ipython",
    "version": 3
   },
   "file_extension": ".py",
   "mimetype": "text/x-python",
   "name": "python",
   "nbconvert_exporter": "python",
   "pygments_lexer": "ipython3",
   "version": "3.11.7"
  }
 },
 "nbformat": 4,
 "nbformat_minor": 4
}
